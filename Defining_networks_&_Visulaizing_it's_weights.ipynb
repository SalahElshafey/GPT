import torch
import torch.nn as nn
import matplotlib.pyplot as plt
import numpy as np
import os

class VariableNetwork(nn.Module):
    def __init__(self, layers):
        super(VariableNetwork, self).__init__()
        self.layers = nn.ModuleList()
        for i in range(len(layers) - 1):
            self.layers.append(nn.Linear(layers[i], layers[i+1]))

    def forward(self, x):
        for layer in self.layers:
            x = torch.relu(layer(x))
        return x

# Ensure the directory exists
output_dir = '/mnt/data'
os.makedirs(output_dir, exist_ok=True)

# Function to create a network with given layer sizes and visualize its weights
def create_and_visualize_network(layer_sizes, network_name):
    model = VariableNetwork(layer_sizes)

    # Manually set weights (for simplicity, we'll use random values in this example)
    for layer in model.layers:
        with torch.no_grad():
            layer.weight = nn.Parameter(torch.rand_like(layer.weight))
            layer.bias = nn.Parameter(torch.rand_like(layer.bias))

    # Define RGB values for different layers
    colors = {
        'red': [1, 0, 0],
        'green': [0, 1, 0],
        'blue': [0, 0, 1],
        'cyan': [0, 1, 1],
        'yellow': [1, 1, 0],
        'magenta': [1, 0, 1]
    }
    color_list = list(colors.values())

    # Function to visualize all layers' weights in a single image according to the layout
    def visualize_all_layers_as_image(model, network_name):
        all_weights = [layer.weight.data.numpy() for layer in model.layers]

        # Normalize weights to [0, 1]
        normalized_weights = []
        for weights in all_weights:
            min_w, max_w = weights.min(), weights.max()
            norm_weights = (weights - min_w) / (max_w - min_w) if max_w > min_w else np.zeros_like(weights)
            normalized_weights.append(norm_weights)

            print(f"Normalized weights for layer:\n{norm_weights}\n")

        # Create a matrix to hold all the weights
        max_neurons = max(layer.weight.shape[1] for layer in model.layers)
        num_rows = sum(layer.weight.shape[0] for layer in model.layers)
        num_cols = max_neurons

        reshaped_weights = np.zeros((num_rows, num_cols))

        # Fill the weight matrix
        row_start = 0
        layer_starts = []
        for norm_weights in normalized_weights:
            num_neurons = norm_weights.shape[0]
            reshaped_weights[row_start:row_start + num_neurons, :norm_weights.shape[1]] = norm_weights
            layer_starts.append((row_start, row_start + num_neurons))
            row_start += num_neurons

        # Create an RGB image
        rgb_image = np.zeros((num_rows, num_cols, 3))
        for i in range(num_rows):
            # Find the correct layer color based on the row index
            for idx, (start, end) in enumerate(layer_starts):
                if start <= i < end:
                    layer_color = np.array(color_list[idx % len(color_list)])  # Cycle through colors for each layer
                    break
            for j in range(num_cols):
                if j < reshaped_weights.shape[1]:  # Check to avoid indexing outside the weight matrix
                    rgb_image[i, j] = reshaped_weights[i, j] * layer_color

        # Flip the image to have the input layer at the bottom
        rgb_image = np.flipud(rgb_image)
        image_path = os.path.join(output_dir, f'{network_name}_weights.png')
        plt.imsave(image_path, rgb_image)
        plt.imshow(rgb_image)
        plt.title(f'{network_name} Weights')
        plt.axis('off')
        plt.show()

        return image_path

    # Visualize the network
    image_path = visualize_all_layers_as_image(model, network_name)
    if image_path:
        print(f'Visualization saved to {image_path}')

# Define the networks
networks = {
    "Network_1": [1, 2, 4, 8, 16],
    "Network_2": [16, 8, 16, 4, 16],
    "Network_3": [32, 4, 16, 8, 32]
}

# Create and visualize each network individually
for network_name, layer_sizes in networks.items():
    create_and_visualize_network(layer_sizes, network_name)
