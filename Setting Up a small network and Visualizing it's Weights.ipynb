import torch
import torch.nn as nn
import matplotlib.pyplot as plt
import numpy as np
import os

# Define a very small network
class VerySmallNetwork(nn.Module):
    def __init__(self):
        super(VerySmallNetwork, self).__init__()
        self.fc1 = nn.Linear(2, 2)  # 2 input neurons, 2 output neurons
        self.fc2 = nn.Linear(2, 1)  # 2 input neurons, 1 output neuron

    def forward(self, x):
        x = torch.relu(self.fc1(x))
        x = self.fc2(x)
        return x

# Ensure the directory exists
output_dir = '/mnt/data'
os.makedirs(output_dir, exist_ok=True)

# Create a very small network
model = VerySmallNetwork()

# Manually set weights
with torch.no_grad():
    model.fc1.weight = nn.Parameter(torch.tensor([[0.3, 0.2], [0.3, 0.4]]))
    model.fc1.bias = nn.Parameter(torch.tensor([0.1, -0.1]))
    model.fc2.weight = nn.Parameter(torch.tensor([[0.5, -0.5]]))
    model.fc2.bias = nn.Parameter(torch.tensor([0.2]))

# Define RGB values for colors
colors = {
    'red': [1, 0, 0],
    'green': [0, 1, 0],
    'blue': [0, 0, 1]
}
color_list = list(colors.values())

# Function to visualize all layers' weights in a single image
def visualize_all_layers_as_image(model):
    all_weights = [layer.weight.data.numpy().flatten() for layer in model.children() if isinstance(layer, nn.Linear)]

    normalized_weights = []
    for weights in all_weights:
        min_w, max_w = weights.min(), weights.max()
        norm_weights = (weights - min_w) / (max_w - min_w) if max_w > min_w else np.zeros_like(weights)
        normalized_weights.append(norm_weights)

    concatenated_weights = np.concatenate(normalized_weights)
    num_elements = concatenated_weights.size
    side_length = int(np.ceil(np.sqrt(num_elements)))
    padded_weights = np.zeros((side_length, side_length))
    padded_weights.flat[:num_elements] = concatenated_weights

    rgb_image = np.zeros((side_length, side_length, 3))
    start_idx = 0

    for i, norm_weights in enumerate(normalized_weights):
        layer_size = norm_weights.size
        end_idx = start_idx + layer_size
        layer_color = np.array(color_list[i % len(color_list)])

        for idx in range(layer_size):
            pos = divmod(start_idx + idx, side_length)
            rgb_image[pos[0], pos[1]] = norm_weights[idx] * layer_color

        start_idx = end_idx

    image_path = os.path.join(output_dir, 'very_small_network_weights.png')
    plt.imsave(image_path, rgb_image)
    plt.imshow(rgb_image)
    plt.title('Very Small Network Weights')
    plt.axis('off')
    plt.show()

    return image_path

# Example usage
image_path = visualize_all_layers_as_image(model)
if image_path:
    print(f'Visualization saved to {image_path}')
