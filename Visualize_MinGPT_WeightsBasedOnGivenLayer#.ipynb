import torch
import torch.nn as nn
import matplotlib.pyplot as plt
import numpy as np
import os

# Define a small GPT-like model
class SmallGPT(nn.Module):
    def __init__(self, vocab_size, block_size, n_embd, n_layer, n_head):
        super(SmallGPT, self).__init__()
        self.vocab_size = vocab_size
        self.block_size = block_size
        self.n_embd = n_embd
        self.n_layer = n_layer
        self.n_head = n_head
        self.embedding = nn.Embedding(vocab_size, n_embd)
        self.layers = nn.ModuleList([nn.TransformerEncoderLayer(n_embd, n_head) for _ in range(n_layer)])
        self.fc = nn.Linear(n_embd, vocab_size)

    def forward(self, x):
        x = self.embedding(x)
        for layer in self.layers:
            x = layer(x)
        logits = self.fc(x)
        return logits

# Ensure the directory exists
output_dir = '/mnt/data'
if not os.path.exists(output_dir):
    os.makedirs(output_dir)

# Create a small GPT-like model
vocab_size = 1000
block_size = 32
n_embd = 64
n_layer = 2
n_head = 2
model = SmallGPT(vocab_size, block_size, n_embd, n_layer, n_head)

# Function to visualize a given layer with 2D matrix layout
def visualize_layer_as_image(layer_number):
    # Check the number of layers
    num_layers = len(model.layers)
    if layer_number >= num_layers:
        print(f"Layer number {layer_number} is out of range. Model has {num_layers} layers.")
        return

    # Extract weights from the specified layer
    layer = model.layers[layer_number].self_attn.in_proj_weight.data.numpy()

    # Check the distribution of the weights
    plt.hist(layer.flatten(), bins=100)
    plt.title(f'Weight Distribution of Layer {layer_number + 1}')
    plt.xlabel('Weight Value')
    plt.ylabel('Frequency')
    plt.show()

    # Normalize weights using a different technique for better visualization
    min_weight = np.min(layer)
    max_weight = np.max(layer)
    if max_weight - min_weight > 0:
        normalized_weights = (layer - min_weight) / (max_weight - min_weight)
    else:
        normalized_weights = np.zeros_like(layer)

    # Reshape weights to a 2D grid for visualization
    num_elements = normalized_weights.size
    side_length = int(np.ceil(np.sqrt(num_elements)))
    padded_weights = np.zeros((side_length * side_length))
    padded_weights[:num_elements] = normalized_weights.flatten()
    reshaped_weights = padded_weights.reshape((side_length, side_length))

    # Create an RGB image using a colormap
    cmap = plt.get_cmap('inferno')
    rgb_image = cmap(reshaped_weights)

    # Remove the alpha channel (keep only RGB)
    rgb_image = rgb_image[:, :, :3]

    # Save the image
    image_path = os.path.join(output_dir, f'network_layer_{layer_number + 1}_weights.png')
    plt.imsave(image_path, rgb_image)

    # Display the image
    plt.imshow(rgb_image)
    plt.title(f'Layer {layer_number + 1} Weights')
    plt.axis('off')
    plt.show()

    return image_path

# Example usage
layer_number = 0  # Change this to visualize a different layer
image_path = visualize_layer_as_image(layer_number)
if image_path:
    print(f'Visualization saved to {image_path}')
