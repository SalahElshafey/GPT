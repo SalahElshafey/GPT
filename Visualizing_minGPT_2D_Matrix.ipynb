import torch
from mingpt.model import GPT
import matplotlib.pyplot as plt
import numpy as np
import os

# Ensure the directory exists
output_dir = '/mnt/data'
if not os.path.exists(output_dir):
    os.makedirs(output_dir)

# Load GPT-2 model configuration
model_config = GPT.get_default_config()
model_config.model_type = 'gpt2'
model_config.vocab_size = 50257
model_config.block_size = 1024
model = GPT(model_config)

# Define colors for layers
colors = ['red', 'green', 'blue', 'cyan', 'yellow', 'magenta']

# Function to visualize a given layer with 2D matrix layout
def visualize_layer(layer_number, sample_size=500):
    # Check the number of layers
    num_layers = len(model.transformer.h)
    if layer_number >= num_layers:
        print(f"Layer number {layer_number} is out of range. Model has {num_layers} layers.")
        return
    
    # Extract weights from the specified layer
    layer = model.transformer.h[layer_number]
    weights = layer.attn.c_attn.weight.data.numpy()
    
    # Define positions for nodes
    num_nodes = weights.shape[0]
    print(f"Visualizing {num_nodes} nodes from layer {layer_number + 1}")

    # Sample points to plot if the number of nodes is too large
    indices = np.random.choice(num_nodes * num_nodes, sample_size, replace=False)
    sampled_positions = [(idx // num_nodes, idx % num_nodes) for idx in indices]

    # Create a figure
    fig, ax = plt.subplots(figsize=(10, 10))
    ax.set_title(f'2D Matrix Layout of Network Layer {layer_number + 1} representig attention matrix')
    ax.set_xlabel('Token j')
    ax.set_ylabel('Token i')
    
    # Plot the sampled nodes with the specified color
    for pos in sampled_positions:
        ax.plot(pos[0], pos[1], 'o', color=colors[layer_number % len(colors)])
    
    # Set axis limits and ticks
    ax.set_xlim(0, num_nodes - 1)
    ax.set_ylim(0, num_nodes - 1)
    ax.set_xticks(np.arange(0, num_nodes, step=num_nodes // 10))
    ax.set_yticks(np.arange(0, num_nodes, step=num_nodes // 10))
    ax.invert_yaxis()  # Optional: to have the origin at the top left like a matrix

    # Save the plot
    image_path = os.path.join(output_dir, f'network_layer_{layer_number + 1}_visualization.png')
    plt.savefig(image_path)
    plt.show()
    
    return image_path

# Example usage
layer_number = 1  # Change this to visualize a different layer
image_path = visualize_layer(layer_number)
if image_path:
    print(f'Visualization saved to {image_path}')
